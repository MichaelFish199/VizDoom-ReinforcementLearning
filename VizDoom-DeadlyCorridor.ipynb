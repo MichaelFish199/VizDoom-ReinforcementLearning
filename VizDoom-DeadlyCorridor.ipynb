{
 "cells": [
  {
   "cell_type": "markdown",
   "id": "04c19b0c",
   "metadata": {},
   "source": [
    "# VizDoom DeadlyCorridor\n",
    "\n",
    "\n",
    "- Curriculum Learning\n",
    "- Reward Shaping\n",
    "\n",
    "\n",
    "\n",
    "All credits to Nicholas Renotte\\\n",
    "Code reproduced only for learning purposes"
   ]
  },
  {
   "cell_type": "markdown",
   "id": "3dc24691",
   "metadata": {},
   "source": [
    "---"
   ]
  },
  {
   "cell_type": "markdown",
   "id": "0fc17d4f",
   "metadata": {},
   "source": [
    "# 1. Getting VizDoom"
   ]
  },
  {
   "cell_type": "code",
   "execution_count": null,
   "id": "41f641c2",
   "metadata": {},
   "outputs": [],
   "source": [
    "# Cloning repository\n",
    "#!mkdir github\n",
    "#!cd github & git clone https://github.com/mwydmuch/ViZDoom"
   ]
  },
  {
   "cell_type": "code",
   "execution_count": 1,
   "id": "45e0acf4",
   "metadata": {},
   "outputs": [],
   "source": [
    "import random\n",
    "import time\n",
    "import numpy as np\n",
    "import os\n",
    "\n",
    "import matplotlib.pyplot as plt\n",
    "\n",
    "from vizdoom import *"
   ]
  },
  {
   "cell_type": "code",
   "execution_count": 2,
   "id": "70602b4d",
   "metadata": {},
   "outputs": [],
   "source": [
    "# Setup Game\n",
    "game = DoomGame()\n",
    "game.load_config('github/VizDoom/scenarios/deadly_corridor-s1.cfg')\n",
    "game.init()"
   ]
  },
  {
   "cell_type": "code",
   "execution_count": 3,
   "id": "8de839ea",
   "metadata": {},
   "outputs": [
    {
     "data": {
      "text/plain": [
       "array([[1, 0, 0, 0, 0, 0, 0],\n",
       "       [0, 1, 0, 0, 0, 0, 0],\n",
       "       [0, 0, 1, 0, 0, 0, 0],\n",
       "       [0, 0, 0, 1, 0, 0, 0],\n",
       "       [0, 0, 0, 0, 1, 0, 0],\n",
       "       [0, 0, 0, 0, 0, 1, 0],\n",
       "       [0, 0, 0, 0, 0, 0, 1]], dtype=uint8)"
      ]
     },
     "execution_count": 3,
     "metadata": {},
     "output_type": "execute_result"
    }
   ],
   "source": [
    "# Set of all actions\n",
    "actions = np.identity(7, dtype=np.uint8)\n",
    "actions"
   ]
  },
  {
   "cell_type": "code",
   "execution_count": 4,
   "id": "bff91ad5",
   "metadata": {
    "collapsed": true
   },
   "outputs": [
    {
     "name": "stdout",
     "output_type": "stream",
     "text": [
      "reward: 0.0\n",
      "reward: 0.0\n",
      "reward: 0.0\n",
      "reward: 0.0\n",
      "reward: -6.712554931640625\n",
      "reward: -9.206634521484375\n",
      "reward: 6.712310791015625\n",
      "reward: 10.308486938476562\n",
      "reward: 14.850265502929688\n",
      "reward: 15.797622680664062\n",
      "reward: 11.840408325195312\n",
      "reward: 7.9864501953125\n",
      "reward: 5.3868408203125\n",
      "reward: -2.549591064453125\n",
      "reward: -1.0699615478515625\n",
      "reward: -0.1698150634765625\n",
      "reward: 7.004913330078125\n",
      "reward: 7.8506011962890625\n",
      "reward: 4.663909912109375\n",
      "reward: 2.77069091796875\n",
      "reward: 1.7738494873046875\n",
      "reward: 1.1963653564453125\n",
      "reward: 7.5174713134765625\n",
      "reward: 8.594512939453125\n",
      "reward: 5.7970123291015625\n",
      "reward: 3.9100799560546875\n",
      "reward: -3.8280029296875\n",
      "reward: -5.977325439453125\n",
      "reward: -5.015106201171875\n",
      "reward: -6.0310821533203125\n",
      "reward: -6.0258331298828125\n",
      "reward: -4.0646514892578125\n",
      "reward: -5.3939208984375\n",
      "reward: -7.6832427978515625\n",
      "reward: 0.157684326171875\n",
      "reward: 0.567840576171875\n",
      "reward: -3.55224609375\n",
      "reward: -3.7181243896484375\n",
      "reward: -2.5080108642578125\n",
      "reward: -7.85699462890625\n",
      "reward: -11.9398193359375\n",
      "reward: -3.26483154296875\n",
      "reward: 3.786376953125\n",
      "reward: 10.138641357421875\n",
      "reward: 9.63568115234375\n",
      "reward: 0.3341064453125\n",
      "reward: -3.012298583984375\n",
      "reward: -2.031951904296875\n",
      "reward: -1.3706817626953125\n",
      "reward: -7.559722900390625\n",
      "reward: -8.583572387695312\n",
      "reward: -5.7898712158203125\n",
      "reward: -9.316909790039062\n",
      "reward: -7.765716552734375\n",
      "reward: 0.754180908203125\n",
      "reward: 1.278656005859375\n",
      "reward: 6.798187255859375\n",
      "reward: 3.943328857421875\n",
      "reward: 5.142059326171875\n",
      "reward: 5.7609710693359375\n",
      "reward: 3.8857574462890625\n",
      "reward: 2.6208648681640625\n",
      "reward: 6.1964569091796875\n",
      "reward: 10.357559204101562\n",
      "reward: 9.154708862304688\n",
      "reward: 11.586227416992188\n",
      "reward: 6.2278289794921875\n",
      "reward: 7.28619384765625\n",
      "reward: 7.756195068359375\n",
      "reward: 3.73004150390625\n",
      "reward: -2.654754638671875\n",
      "reward: -4.314361572265625\n",
      "reward: 2.1216583251953125\n",
      "reward: 4.073455810546875\n",
      "reward: 6.8747406005859375\n",
      "reward: 6.6352386474609375\n",
      "reward: 9.616485595703125\n",
      "reward: 4.5694732666015625\n",
      "reward: -0.672882080078125\n",
      "reward: -0.453948974609375\n",
      "reward: 5.506561279296875\n",
      "reward: 12.579605102539062\n",
      "reward: 11.537612915039062\n",
      "reward: 1.5110015869140625\n",
      "reward: -2.2741851806640625\n",
      "reward: -1.5340728759765625\n",
      "reward: 5.6001129150390625\n",
      "reward: 7.2615509033203125\n",
      "reward: 6.5571746826171875\n",
      "reward: -1.605133056640625\n",
      "reward: -3.0466156005859375\n",
      "reward: -4.948150634765625\n",
      "reward: -11.4786376953125\n",
      "reward: -10.87005615234375\n",
      "reward: -7.3321380615234375\n",
      "reward: 1.764801025390625\n",
      "reward: 11.424850463867188\n",
      "reward: 11.098098754882812\n",
      "reward: 0.738983154296875\n",
      "reward: -0.76458740234375\n",
      "reward: -5.9795379638671875\n",
      "reward: -4.4873199462890625\n",
      "reward: -3.9095001220703125\n",
      "reward: 2.885986328125\n",
      "reward: 5.4705047607421875\n",
      "reward: 9.9603271484375\n",
      "reward: 8.029129028320312\n",
      "reward: 0.6370391845703125\n",
      "reward: -2.916229248046875\n",
      "reward: -5.0001068115234375\n",
      "reward: -4.9654693603515625\n",
      "reward: -9.720657348632812\n",
      "reward: -16.273880004882812\n",
      "reward: -11.961441040039062\n",
      "reward: -2.5642547607421875\n",
      "reward: -2.4175872802734375\n",
      "reward: -3.3310699462890625\n",
      "reward: -8.182937622070312\n",
      "reward: -2.638336181640625\n",
      "reward: 0.7683868408203125\n",
      "reward: -4.6081085205078125\n",
      "reward: -1.14337158203125\n",
      "reward: 1.530364990234375\n",
      "reward: -3.3967437744140625\n",
      "reward: -0.1883087158203125\n",
      "reward: 2.1985626220703125\n",
      "reward: 6.2882537841796875\n",
      "reward: 6.7648773193359375\n",
      "reward: 0.435516357421875\n",
      "reward: -1.873809814453125\n",
      "reward: -1.2639923095703125\n",
      "reward: 5.6337127685546875\n",
      "reward: 1.3141937255859375\n",
      "reward: 0.8863525390625\n",
      "reward: 1.722320556640625\n",
      "reward: 2.8767852783203125\n",
      "reward: 2.228485107421875\n",
      "reward: 1.3585662841796875\n",
      "reward: 1.5313873291015625\n",
      "reward: 1.0328369140625\n",
      "reward: 0.696533203125\n",
      "reward: 0.4696807861328125\n",
      "reward: 0.31671142578125\n",
      "reward: 6.710906982421875\n",
      "reward: 7.8810272216796875\n",
      "reward: 7.6321563720703125\n",
      "reward: 15.057342529296875\n",
      "reward: 11.383514404296875\n",
      "reward: 6.5308837890625\n",
      "reward: 3.5700836181640625\n",
      "reward: 9.1875\n",
      "reward: 9.718505859375\n",
      "reward: 13.052627563476562\n",
      "reward: 5.718536376953125\n",
      "reward: 0.4450225830078125\n",
      "reward: 3.2969970703125\n",
      "reward: 3.7975921630859375\n",
      "reward: 2.56146240234375\n",
      "reward: 2.39947509765625\n",
      "reward: 0.726959228515625\n",
      "reward: 0.4902496337890625\n",
      "reward: 4.403076171875\n",
      "reward: 4.3363189697265625\n",
      "reward: 3.3697967529296875\n",
      "reward: -4.053253173828125\n",
      "reward: -6.056732177734375\n",
      "reward: -10.439239501953125\n",
      "reward: -8.718856811523438\n",
      "reward: -11.361618041992188\n",
      "reward: -9.322525024414062\n",
      "reward: -6.9974822998046875\n",
      "reward: -12.198974609375\n",
      "reward: -5.06451416015625\n",
      "reward: 6.7461090087890625\n",
      "reward: 8.049346923828125\n",
      "reward: 6.9823760986328125\n",
      "reward: 5.5251922607421875\n",
      "reward: 3.7266998291015625\n",
      "reward: 2.5135955810546875\n",
      "reward: -98.6680908203125\n",
      "Result: 107.73066711425781\n",
      "reward: 0.0\n",
      "reward: 0.0\n",
      "reward: 0.0\n",
      "reward: 0.0\n",
      "reward: 7.1137542724609375\n",
      "reward: 3.7213134765625\n",
      "reward: 1.1219024658203125\n",
      "reward: 0.7181854248046875\n",
      "reward: 0.484375\n",
      "reward: 0.32666015625\n",
      "reward: 6.9326324462890625\n",
      "reward: 8.20098876953125\n",
      "reward: 12.243942260742188\n",
      "reward: 14.039627075195312\n",
      "reward: 8.398391723632812\n",
      "reward: -10.420822143554688\n",
      "reward: -10.532363891601562\n",
      "reward: 0.79278564453125\n",
      "reward: 4.059539794921875\n",
      "reward: 4.9942626953125\n",
      "reward: 4.208526611328125\n",
      "reward: 3.222259521484375\n",
      "reward: 1.32916259765625\n",
      "reward: 1.5849456787109375\n",
      "reward: 1.8304901123046875\n",
      "reward: 3.4687042236328125\n",
      "reward: 10.182327270507812\n",
      "reward: 10.392990112304688\n",
      "reward: 7.0101165771484375\n",
      "reward: 11.440719604492188\n",
      "reward: 8.985519409179688\n",
      "reward: -1.836578369140625\n",
      "reward: -3.9965972900390625\n",
      "reward: -0.5107269287109375\n",
      "reward: -0.3446197509765625\n",
      "reward: 3.8143463134765625\n",
      "reward: 0.32489013671875\n",
      "reward: -6.3504180908203125\n",
      "reward: -6.54559326171875\n",
      "reward: -4.118927001953125\n",
      "reward: -0.3954620361328125\n",
      "reward: -1.0195159912109375\n",
      "reward: 3.514373779296875\n",
      "reward: 0.5487060546875\n",
      "reward: -1.593292236328125\n",
      "reward: -1.074798583984375\n",
      "reward: -6.15679931640625\n",
      "reward: -7.00537109375\n",
      "reward: -5.77703857421875\n",
      "reward: -3.296478271484375\n",
      "reward: -6.1206512451171875\n",
      "reward: -6.122955322265625\n",
      "reward: -4.13018798828125\n",
      "reward: -2.7859649658203125\n",
      "reward: 2.94439697265625\n",
      "reward: 9.314849853515625\n",
      "reward: 8.847808837890625\n",
      "reward: 10.231048583984375\n",
      "reward: 14.693527221679688\n",
      "reward: 18.38140869140625\n",
      "reward: 15.31500244140625\n",
      "reward: 9.393875122070312\n",
      "reward: 5.37017822265625\n",
      "reward: 7.6387176513671875\n",
      "reward: 7.50372314453125\n",
      "reward: 5.061279296875\n",
      "reward: 3.413787841796875\n",
      "reward: 6.399932861328125\n",
      "reward: 6.468414306640625\n",
      "reward: -95.6370849609375\n",
      "Result: 90.21214294433594\n"
     ]
    }
   ],
   "source": [
    "# Game with random actions\n",
    "episodes = 2\n",
    "\n",
    "for episode in range(episodes):\n",
    "    game.new_episode()\n",
    "    \n",
    "    while not game.is_episode_finished():\n",
    "        state = game.get_state()\n",
    "        img = state.screen_buffer\n",
    "        info = state.game_variables\n",
    "        reward = game.make_action(random.choice(actions), 4) # 4 = skipping 4 frames each iteration\n",
    "        print(\"reward:\", reward)\n",
    "        time.sleep(0.02)\n",
    "        \n",
    "    print(\"Result:\", game.get_total_reward())\n",
    "    time.sleep(2)\n",
    "    \n",
    "game.close()"
   ]
  },
  {
   "cell_type": "markdown",
   "id": "77d54dcd",
   "metadata": {},
   "source": [
    "# 2. Converting Game To Gym Environment"
   ]
  },
  {
   "cell_type": "code",
   "execution_count": 5,
   "id": "2ea7136a",
   "metadata": {},
   "outputs": [],
   "source": [
    "from gym import Env\n",
    "from gym.spaces import Discrete, Box\n",
    "import cv2"
   ]
  },
  {
   "cell_type": "code",
   "execution_count": 6,
   "id": "dea93720",
   "metadata": {},
   "outputs": [],
   "source": [
    "class VizDoomGym(Env):\n",
    "    \"\"\" Doom game class \"\"\"\n",
    "    \n",
    "    def __init__(self, render=False, config='github/VizDoom/scenarios/deadly_corridor-s1.cfg'):\n",
    "        \"\"\" Inicializing game \"\"\"\n",
    "        \n",
    "        # Inherit from Env\n",
    "        super().__init__()\n",
    "        \n",
    "        # Setup the game\n",
    "        self.game = DoomGame()\n",
    "        self.game.load_config(config)\n",
    "        \n",
    "        # Render frame logic\n",
    "        if render == False:\n",
    "            self.game.set_window_visible(False)\n",
    "        else:\n",
    "            self.game.set_window_visible(True)\n",
    "            \n",
    "        self.game.init()\n",
    "        \n",
    "        # Create the action space and observation space\n",
    "        self.observation_space = Box(low=0, high=255, shape=(80,160,1), dtype=np.uint8)\n",
    "        self.action_space = Discrete(7)\n",
    "        \n",
    "        # Game variables: HEALTH DAMEGE_TAKEN HITCOUNT SELECTED_WEAPON_AMMO\n",
    "        self.damage_taken = 0\n",
    "        self.hit_count = 0\n",
    "        self.ammo = 52\n",
    "        \n",
    "    \n",
    "    def step(self, action):\n",
    "        \"\"\" Step in Environment \"\"\"\n",
    "        \n",
    "        # Specify action and take step\n",
    "        actions = np.identity(7)\n",
    "        movement_reward = self.game.make_action(actions[action], 4)\n",
    "        reward = 0\n",
    "        \n",
    "        # Get other things\n",
    "        if self.game.get_state():\n",
    "            state = self.game.get_state().screen_buffer\n",
    "            state = self.greyscale(state)\n",
    "            \n",
    "            # ***Reward shaping***\n",
    "            health, damage_taken, hit_count, ammo = self.game.get_state().game_variables\n",
    "            # Calculate reward deltas\n",
    "            damage_taken_delta = -damage_taken + self.damage_taken\n",
    "            self.damage_taken = damage_taken\n",
    "            hit_count_delta = hit_count - self.hit_count\n",
    "            self.hit_count = hit_count\n",
    "            ammo_delta = ammo - self.ammo\n",
    "            self.ammo = ammo\n",
    "            \n",
    "            reward = movement_reward + damage_taken_delta*10 + hit_count_delta*200 + ammo_delta*5\n",
    "            info = ammo\n",
    "        else:\n",
    "            state = np.zeros(self.observation_space.shape)\n",
    "            info = 0\n",
    "            \n",
    "        info = {\"info\": info}\n",
    "        done = self.game.is_episode_finished()\n",
    "            \n",
    "        return state, reward, done, info\n",
    "    \n",
    "    \n",
    "    def render():\n",
    "        pass\n",
    "    \n",
    "    \n",
    "    def reset(self):\n",
    "        \"\"\" Reseting the Environment \"\"\"\n",
    "        self.game.new_episode()\n",
    "        state = self.game.get_state().screen_buffer\n",
    "        return self.greyscale(state)\n",
    "    \n",
    "    \n",
    "    def greyscale(self, observation):\n",
    "        \"\"\" Applying greyscale, reshaping and removing HUD \"\"\"\n",
    "        gray = cv2.cvtColor(np.moveaxis(observation, 0, -1), cv2.COLOR_BGR2GRAY)\n",
    "        resize = cv2.resize(gray, (160,100), interpolation=cv2.INTER_CUBIC)\n",
    "        state = np.reshape(resize, (100,160,1))\n",
    "        return state[:80,:]\n",
    "    \n",
    "    \n",
    "    def close(self):\n",
    "        \"\"\" Closing game \"\"\"\n",
    "        self.game.close()"
   ]
  },
  {
   "cell_type": "markdown",
   "id": "5af89ca5",
   "metadata": {},
   "source": [
    "# 3. View Game"
   ]
  },
  {
   "cell_type": "code",
   "execution_count": 7,
   "id": "38d5a145",
   "metadata": {},
   "outputs": [],
   "source": [
    "# Opening the game\n",
    "env = VizDoomGym(render=True)"
   ]
  },
  {
   "cell_type": "code",
   "execution_count": 8,
   "id": "15189485",
   "metadata": {},
   "outputs": [],
   "source": [
    "# agent that tests if environment is setup correctly\n",
    "from stable_baselines3.common import env_checker\n",
    "env_checker.check_env(env)"
   ]
  },
  {
   "cell_type": "code",
   "execution_count": 9,
   "id": "89a3f42a",
   "metadata": {},
   "outputs": [],
   "source": [
    "# Action 2: shoot\n",
    "env.step(2);"
   ]
  },
  {
   "cell_type": "code",
   "execution_count": 10,
   "id": "19bc9889",
   "metadata": {},
   "outputs": [
    {
     "data": {
      "image/png": "[encoded data removed]",
      "text/plain": [
       "<Figure size 432x288 with 1 Axes>"
      ]
     },
     "metadata": {
      "needs_background": "light"
     },
     "output_type": "display_data"
    }
   ],
   "source": [
    "# Displaying evironment for learning \n",
    "state = env.reset()\n",
    "plt.title(\"One game frame that we will be using to teach PPO\")\n",
    "plt.imshow(cv2.cvtColor(state, cv2.COLOR_BGR2RGB));"
   ]
  },
  {
   "cell_type": "code",
   "execution_count": 11,
   "id": "91c190ce",
   "metadata": {},
   "outputs": [],
   "source": [
    "env.close()"
   ]
  },
  {
   "cell_type": "markdown",
   "id": "b7c77b96",
   "metadata": {},
   "source": [
    "# 3. Setup Callback"
   ]
  },
  {
   "cell_type": "code",
   "execution_count": 12,
   "id": "88b3bbb2",
   "metadata": {},
   "outputs": [],
   "source": [
    "from stable_baselines3.common.callbacks import BaseCallback\n",
    "\n",
    "class TrainAndLoggingCallback(BaseCallback):\n",
    "    \"\"\"\n",
    "    Callback class that save the model after n steps of iteration\n",
    "    \"\"\"\n",
    "    \n",
    "    def __init__(self, check_freq, save_path, verbose=1):\n",
    "        super(TrainAndLoggingCallback, self).__init__(verbose)\n",
    "        self.check_freq = check_freq\n",
    "        self.save_path = save_path\n",
    "        \n",
    "    def _init_callback(self):\n",
    "        if self.save_path is not None:\n",
    "            os.makedirs(self.save_path, exist_ok=True)\n",
    "            \n",
    "    def _on_step(self):\n",
    "        if self.n_calls % self.check_freq == 0:\n",
    "            model_path = os.path.join(self.save_path, 'best_model_{}'.format(self.n_calls))\n",
    "            self.model.save(model_path)\n",
    "    \n",
    "        return True"
   ]
  },
  {
   "cell_type": "code",
   "execution_count": 13,
   "id": "5980ba99",
   "metadata": {},
   "outputs": [],
   "source": [
    "CHECKPOINT_DIR = './train/train_deadly_corridor'\n",
    "LOG_DIR = './logs/log_deadly_corridor'"
   ]
  },
  {
   "cell_type": "code",
   "execution_count": 15,
   "id": "73786ccd",
   "metadata": {},
   "outputs": [],
   "source": [
    "callback = TrainAndLoggingCallback(check_freq = 200_000, save_path=CHECKPOINT_DIR)"
   ]
  },
  {
   "cell_type": "markdown",
   "id": "f0b52e7e",
   "metadata": {},
   "source": [
    "# 4. Training The Model Using Curriculum"
   ]
  },
  {
   "cell_type": "code",
   "execution_count": 16,
   "id": "2f6eff56",
   "metadata": {},
   "outputs": [],
   "source": [
    "# importing PPO algorithm\n",
    "from stable_baselines3 import PPO"
   ]
  },
  {
   "cell_type": "code",
   "execution_count": 23,
   "id": "c91485e2",
   "metadata": {},
   "outputs": [
    {
     "name": "stdout",
     "output_type": "stream",
     "text": [
      "Using cpu device\n",
      "Wrapping the env with a `Monitor` wrapper\n",
      "Wrapping the env in a DummyVecEnv.\n",
      "Wrapping the env in a VecTransposeImage.\n"
     ]
    }
   ],
   "source": [
    "# Useless variable for inicializing PPO\n",
    "env = VizDoomGym(config=f'github/VizDoom/scenarios/deadly_corridor-s1.cfg')\n",
    "\n",
    "model = PPO('CnnPolicy', env, tensorboard_log=LOG_DIR, verbose=1, learning_rate=0.00003, n_steps=8192, clip_range=.1, gamma=.97, gae_lambda=.9)\n",
    "# the more complex environment(like Dota or Cs-GO) the higher n_steps, lower learning rate and more iterations"
   ]
  },
  {
   "cell_type": "code",
   "execution_count": 22,
   "id": "5d9c6411",
   "metadata": {
    "scrolled": true
   },
   "outputs": [
    {
     "name": "stdout",
     "output_type": "stream",
     "text": [
      "Wrapping the env with a `Monitor` wrapper\n",
      "Wrapping the env in a DummyVecEnv.\n",
      "Wrapping the env in a VecTransposeImage.\n",
      "Logging to ./logs/log_deadly_corridor\\PPO_18\n"
     ]
    },
    {
     "ename": "KeyboardInterrupt",
     "evalue": "",
     "output_type": "error",
     "traceback": [
      "\u001b[1;31m---------------------------------------------------------------------------\u001b[0m",
      "\u001b[1;31mKeyboardInterrupt\u001b[0m                         Traceback (most recent call last)",
      "Input \u001b[1;32mIn [22]\u001b[0m, in \u001b[0;36m<cell line: 2>\u001b[1;34m()\u001b[0m\n\u001b[0;32m      3\u001b[0m env \u001b[38;5;241m=\u001b[39m VizDoomGym(config\u001b[38;5;241m=\u001b[39m\u001b[38;5;124mf\u001b[39m\u001b[38;5;124m'\u001b[39m\u001b[38;5;124mgithub/VizDoom/scenarios/deadly_corridor-s\u001b[39m\u001b[38;5;132;01m{\u001b[39;00mi\u001b[38;5;132;01m}\u001b[39;00m\u001b[38;5;124m.cfg\u001b[39m\u001b[38;5;124m'\u001b[39m)\n\u001b[0;32m      4\u001b[0m model\u001b[38;5;241m.\u001b[39mset_env(env)\n\u001b[1;32m----> 5\u001b[0m \u001b[43mmodel\u001b[49m\u001b[38;5;241;43m.\u001b[39;49m\u001b[43mlearn\u001b[49m\u001b[43m(\u001b[49m\u001b[43mtotal_timesteps\u001b[49m\u001b[38;5;241;43m=\u001b[39;49m\u001b[38;5;241;43m200_000\u001b[39;49m\u001b[43m,\u001b[49m\u001b[43m \u001b[49m\u001b[43mcallback\u001b[49m\u001b[38;5;241;43m=\u001b[39;49m\u001b[43mcallback\u001b[49m\u001b[43m)\u001b[49m\n",
      "File \u001b[1;32m~\\anaconda3\\envs\\RL\\lib\\site-packages\\stable_baselines3\\ppo\\ppo.py:310\u001b[0m, in \u001b[0;36mPPO.learn\u001b[1;34m(self, total_timesteps, callback, log_interval, eval_env, eval_freq, n_eval_episodes, tb_log_name, eval_log_path, reset_num_timesteps)\u001b[0m\n\u001b[0;32m    297\u001b[0m \u001b[38;5;28;01mdef\u001b[39;00m \u001b[38;5;21mlearn\u001b[39m(\n\u001b[0;32m    298\u001b[0m     \u001b[38;5;28mself\u001b[39m,\n\u001b[0;32m    299\u001b[0m     total_timesteps: \u001b[38;5;28mint\u001b[39m,\n\u001b[1;32m   (...)\u001b[0m\n\u001b[0;32m    307\u001b[0m     reset_num_timesteps: \u001b[38;5;28mbool\u001b[39m \u001b[38;5;241m=\u001b[39m \u001b[38;5;28;01mTrue\u001b[39;00m,\n\u001b[0;32m    308\u001b[0m ) \u001b[38;5;241m-\u001b[39m\u001b[38;5;241m>\u001b[39m \u001b[38;5;124m\"\u001b[39m\u001b[38;5;124mPPO\u001b[39m\u001b[38;5;124m\"\u001b[39m:\n\u001b[1;32m--> 310\u001b[0m     \u001b[38;5;28;01mreturn\u001b[39;00m \u001b[38;5;28;43msuper\u001b[39;49m\u001b[43m(\u001b[49m\u001b[43m)\u001b[49m\u001b[38;5;241;43m.\u001b[39;49m\u001b[43mlearn\u001b[49m\u001b[43m(\u001b[49m\n\u001b[0;32m    311\u001b[0m \u001b[43m        \u001b[49m\u001b[43mtotal_timesteps\u001b[49m\u001b[38;5;241;43m=\u001b[39;49m\u001b[43mtotal_timesteps\u001b[49m\u001b[43m,\u001b[49m\n\u001b[0;32m    312\u001b[0m \u001b[43m        \u001b[49m\u001b[43mcallback\u001b[49m\u001b[38;5;241;43m=\u001b[39;49m\u001b[43mcallback\u001b[49m\u001b[43m,\u001b[49m\n\u001b[0;32m    313\u001b[0m \u001b[43m        \u001b[49m\u001b[43mlog_interval\u001b[49m\u001b[38;5;241;43m=\u001b[39;49m\u001b[43mlog_interval\u001b[49m\u001b[43m,\u001b[49m\n\u001b[0;32m    314\u001b[0m \u001b[43m        \u001b[49m\u001b[43meval_env\u001b[49m\u001b[38;5;241;43m=\u001b[39;49m\u001b[43meval_env\u001b[49m\u001b[43m,\u001b[49m\n\u001b[0;32m    315\u001b[0m \u001b[43m        \u001b[49m\u001b[43meval_freq\u001b[49m\u001b[38;5;241;43m=\u001b[39;49m\u001b[43meval_freq\u001b[49m\u001b[43m,\u001b[49m\n\u001b[0;32m    316\u001b[0m \u001b[43m        \u001b[49m\u001b[43mn_eval_episodes\u001b[49m\u001b[38;5;241;43m=\u001b[39;49m\u001b[43mn_eval_episodes\u001b[49m\u001b[43m,\u001b[49m\n\u001b[0;32m    317\u001b[0m \u001b[43m        \u001b[49m\u001b[43mtb_log_name\u001b[49m\u001b[38;5;241;43m=\u001b[39;49m\u001b[43mtb_log_name\u001b[49m\u001b[43m,\u001b[49m\n\u001b[0;32m    318\u001b[0m \u001b[43m        \u001b[49m\u001b[43meval_log_path\u001b[49m\u001b[38;5;241;43m=\u001b[39;49m\u001b[43meval_log_path\u001b[49m\u001b[43m,\u001b[49m\n\u001b[0;32m    319\u001b[0m \u001b[43m        \u001b[49m\u001b[43mreset_num_timesteps\u001b[49m\u001b[38;5;241;43m=\u001b[39;49m\u001b[43mreset_num_timesteps\u001b[49m\u001b[43m,\u001b[49m\n\u001b[0;32m    320\u001b[0m \u001b[43m    \u001b[49m\u001b[43m)\u001b[49m\n",
      "File \u001b[1;32m~\\anaconda3\\envs\\RL\\lib\\site-packages\\stable_baselines3\\common\\on_policy_algorithm.py:247\u001b[0m, in \u001b[0;36mOnPolicyAlgorithm.learn\u001b[1;34m(self, total_timesteps, callback, log_interval, eval_env, eval_freq, n_eval_episodes, tb_log_name, eval_log_path, reset_num_timesteps)\u001b[0m\n\u001b[0;32m    243\u001b[0m callback\u001b[38;5;241m.\u001b[39mon_training_start(\u001b[38;5;28mlocals\u001b[39m(), \u001b[38;5;28mglobals\u001b[39m())\n\u001b[0;32m    245\u001b[0m \u001b[38;5;28;01mwhile\u001b[39;00m \u001b[38;5;28mself\u001b[39m\u001b[38;5;241m.\u001b[39mnum_timesteps \u001b[38;5;241m<\u001b[39m total_timesteps:\n\u001b[1;32m--> 247\u001b[0m     continue_training \u001b[38;5;241m=\u001b[39m \u001b[38;5;28;43mself\u001b[39;49m\u001b[38;5;241;43m.\u001b[39;49m\u001b[43mcollect_rollouts\u001b[49m\u001b[43m(\u001b[49m\u001b[38;5;28;43mself\u001b[39;49m\u001b[38;5;241;43m.\u001b[39;49m\u001b[43menv\u001b[49m\u001b[43m,\u001b[49m\u001b[43m \u001b[49m\u001b[43mcallback\u001b[49m\u001b[43m,\u001b[49m\u001b[43m \u001b[49m\u001b[38;5;28;43mself\u001b[39;49m\u001b[38;5;241;43m.\u001b[39;49m\u001b[43mrollout_buffer\u001b[49m\u001b[43m,\u001b[49m\u001b[43m \u001b[49m\u001b[43mn_rollout_steps\u001b[49m\u001b[38;5;241;43m=\u001b[39;49m\u001b[38;5;28;43mself\u001b[39;49m\u001b[38;5;241;43m.\u001b[39;49m\u001b[43mn_steps\u001b[49m\u001b[43m)\u001b[49m\n\u001b[0;32m    249\u001b[0m     \u001b[38;5;28;01mif\u001b[39;00m continue_training \u001b[38;5;129;01mis\u001b[39;00m \u001b[38;5;28;01mFalse\u001b[39;00m:\n\u001b[0;32m    250\u001b[0m         \u001b[38;5;28;01mbreak\u001b[39;00m\n",
      "File \u001b[1;32m~\\anaconda3\\envs\\RL\\lib\\site-packages\\stable_baselines3\\common\\on_policy_algorithm.py:175\u001b[0m, in \u001b[0;36mOnPolicyAlgorithm.collect_rollouts\u001b[1;34m(self, env, callback, rollout_buffer, n_rollout_steps)\u001b[0m\n\u001b[0;32m    172\u001b[0m \u001b[38;5;28;01mif\u001b[39;00m \u001b[38;5;28misinstance\u001b[39m(\u001b[38;5;28mself\u001b[39m\u001b[38;5;241m.\u001b[39maction_space, gym\u001b[38;5;241m.\u001b[39mspaces\u001b[38;5;241m.\u001b[39mBox):\n\u001b[0;32m    173\u001b[0m     clipped_actions \u001b[38;5;241m=\u001b[39m np\u001b[38;5;241m.\u001b[39mclip(actions, \u001b[38;5;28mself\u001b[39m\u001b[38;5;241m.\u001b[39maction_space\u001b[38;5;241m.\u001b[39mlow, \u001b[38;5;28mself\u001b[39m\u001b[38;5;241m.\u001b[39maction_space\u001b[38;5;241m.\u001b[39mhigh)\n\u001b[1;32m--> 175\u001b[0m new_obs, rewards, dones, infos \u001b[38;5;241m=\u001b[39m \u001b[43menv\u001b[49m\u001b[38;5;241;43m.\u001b[39;49m\u001b[43mstep\u001b[49m\u001b[43m(\u001b[49m\u001b[43mclipped_actions\u001b[49m\u001b[43m)\u001b[49m\n\u001b[0;32m    177\u001b[0m \u001b[38;5;28mself\u001b[39m\u001b[38;5;241m.\u001b[39mnum_timesteps \u001b[38;5;241m+\u001b[39m\u001b[38;5;241m=\u001b[39m env\u001b[38;5;241m.\u001b[39mnum_envs\n\u001b[0;32m    179\u001b[0m \u001b[38;5;66;03m# Give access to local variables\u001b[39;00m\n",
      "File \u001b[1;32m~\\anaconda3\\envs\\RL\\lib\\site-packages\\stable_baselines3\\common\\vec_env\\base_vec_env.py:162\u001b[0m, in \u001b[0;36mVecEnv.step\u001b[1;34m(self, actions)\u001b[0m\n\u001b[0;32m    155\u001b[0m \u001b[38;5;124;03m\"\"\"\u001b[39;00m\n\u001b[0;32m    156\u001b[0m \u001b[38;5;124;03mStep the environments with the given action\u001b[39;00m\n\u001b[0;32m    157\u001b[0m \n\u001b[0;32m    158\u001b[0m \u001b[38;5;124;03m:param actions: the action\u001b[39;00m\n\u001b[0;32m    159\u001b[0m \u001b[38;5;124;03m:return: observation, reward, done, information\u001b[39;00m\n\u001b[0;32m    160\u001b[0m \u001b[38;5;124;03m\"\"\"\u001b[39;00m\n\u001b[0;32m    161\u001b[0m \u001b[38;5;28mself\u001b[39m\u001b[38;5;241m.\u001b[39mstep_async(actions)\n\u001b[1;32m--> 162\u001b[0m \u001b[38;5;28;01mreturn\u001b[39;00m \u001b[38;5;28;43mself\u001b[39;49m\u001b[38;5;241;43m.\u001b[39;49m\u001b[43mstep_wait\u001b[49m\u001b[43m(\u001b[49m\u001b[43m)\u001b[49m\n",
      "File \u001b[1;32m~\\anaconda3\\envs\\RL\\lib\\site-packages\\stable_baselines3\\common\\vec_env\\vec_transpose.py:95\u001b[0m, in \u001b[0;36mVecTransposeImage.step_wait\u001b[1;34m(self)\u001b[0m\n\u001b[0;32m     94\u001b[0m \u001b[38;5;28;01mdef\u001b[39;00m \u001b[38;5;21mstep_wait\u001b[39m(\u001b[38;5;28mself\u001b[39m) \u001b[38;5;241m-\u001b[39m\u001b[38;5;241m>\u001b[39m VecEnvStepReturn:\n\u001b[1;32m---> 95\u001b[0m     observations, rewards, dones, infos \u001b[38;5;241m=\u001b[39m \u001b[38;5;28;43mself\u001b[39;49m\u001b[38;5;241;43m.\u001b[39;49m\u001b[43mvenv\u001b[49m\u001b[38;5;241;43m.\u001b[39;49m\u001b[43mstep_wait\u001b[49m\u001b[43m(\u001b[49m\u001b[43m)\u001b[49m\n\u001b[0;32m     97\u001b[0m     \u001b[38;5;66;03m# Transpose the terminal observations\u001b[39;00m\n\u001b[0;32m     98\u001b[0m     \u001b[38;5;28;01mfor\u001b[39;00m idx, done \u001b[38;5;129;01min\u001b[39;00m \u001b[38;5;28menumerate\u001b[39m(dones):\n",
      "File \u001b[1;32m~\\anaconda3\\envs\\RL\\lib\\site-packages\\stable_baselines3\\common\\vec_env\\dummy_vec_env.py:43\u001b[0m, in \u001b[0;36mDummyVecEnv.step_wait\u001b[1;34m(self)\u001b[0m\n\u001b[0;32m     41\u001b[0m \u001b[38;5;28;01mdef\u001b[39;00m \u001b[38;5;21mstep_wait\u001b[39m(\u001b[38;5;28mself\u001b[39m) \u001b[38;5;241m-\u001b[39m\u001b[38;5;241m>\u001b[39m VecEnvStepReturn:\n\u001b[0;32m     42\u001b[0m     \u001b[38;5;28;01mfor\u001b[39;00m env_idx \u001b[38;5;129;01min\u001b[39;00m \u001b[38;5;28mrange\u001b[39m(\u001b[38;5;28mself\u001b[39m\u001b[38;5;241m.\u001b[39mnum_envs):\n\u001b[1;32m---> 43\u001b[0m         obs, \u001b[38;5;28mself\u001b[39m\u001b[38;5;241m.\u001b[39mbuf_rews[env_idx], \u001b[38;5;28mself\u001b[39m\u001b[38;5;241m.\u001b[39mbuf_dones[env_idx], \u001b[38;5;28mself\u001b[39m\u001b[38;5;241m.\u001b[39mbuf_infos[env_idx] \u001b[38;5;241m=\u001b[39m \u001b[38;5;28;43mself\u001b[39;49m\u001b[38;5;241;43m.\u001b[39;49m\u001b[43menvs\u001b[49m\u001b[43m[\u001b[49m\u001b[43menv_idx\u001b[49m\u001b[43m]\u001b[49m\u001b[38;5;241;43m.\u001b[39;49m\u001b[43mstep\u001b[49m\u001b[43m(\u001b[49m\n\u001b[0;32m     44\u001b[0m \u001b[43m            \u001b[49m\u001b[38;5;28;43mself\u001b[39;49m\u001b[38;5;241;43m.\u001b[39;49m\u001b[43mactions\u001b[49m\u001b[43m[\u001b[49m\u001b[43menv_idx\u001b[49m\u001b[43m]\u001b[49m\n\u001b[0;32m     45\u001b[0m \u001b[43m        \u001b[49m\u001b[43m)\u001b[49m\n\u001b[0;32m     46\u001b[0m         \u001b[38;5;28;01mif\u001b[39;00m \u001b[38;5;28mself\u001b[39m\u001b[38;5;241m.\u001b[39mbuf_dones[env_idx]:\n\u001b[0;32m     47\u001b[0m             \u001b[38;5;66;03m# save final observation where user can get it, then reset\u001b[39;00m\n\u001b[0;32m     48\u001b[0m             \u001b[38;5;28mself\u001b[39m\u001b[38;5;241m.\u001b[39mbuf_infos[env_idx][\u001b[38;5;124m\"\u001b[39m\u001b[38;5;124mterminal_observation\u001b[39m\u001b[38;5;124m\"\u001b[39m] \u001b[38;5;241m=\u001b[39m obs\n",
      "File \u001b[1;32m~\\anaconda3\\envs\\RL\\lib\\site-packages\\stable_baselines3\\common\\monitor.py:90\u001b[0m, in \u001b[0;36mMonitor.step\u001b[1;34m(self, action)\u001b[0m\n\u001b[0;32m     88\u001b[0m \u001b[38;5;28;01mif\u001b[39;00m \u001b[38;5;28mself\u001b[39m\u001b[38;5;241m.\u001b[39mneeds_reset:\n\u001b[0;32m     89\u001b[0m     \u001b[38;5;28;01mraise\u001b[39;00m \u001b[38;5;167;01mRuntimeError\u001b[39;00m(\u001b[38;5;124m\"\u001b[39m\u001b[38;5;124mTried to step environment that needs reset\u001b[39m\u001b[38;5;124m\"\u001b[39m)\n\u001b[1;32m---> 90\u001b[0m observation, reward, done, info \u001b[38;5;241m=\u001b[39m \u001b[38;5;28;43mself\u001b[39;49m\u001b[38;5;241;43m.\u001b[39;49m\u001b[43menv\u001b[49m\u001b[38;5;241;43m.\u001b[39;49m\u001b[43mstep\u001b[49m\u001b[43m(\u001b[49m\u001b[43maction\u001b[49m\u001b[43m)\u001b[49m\n\u001b[0;32m     91\u001b[0m \u001b[38;5;28mself\u001b[39m\u001b[38;5;241m.\u001b[39mrewards\u001b[38;5;241m.\u001b[39mappend(reward)\n\u001b[0;32m     92\u001b[0m \u001b[38;5;28;01mif\u001b[39;00m done:\n",
      "Input \u001b[1;32mIn [6]\u001b[0m, in \u001b[0;36mVizDoomGym.step\u001b[1;34m(self, action)\u001b[0m\n\u001b[0;32m     35\u001b[0m \u001b[38;5;66;03m# Specify action and take step\u001b[39;00m\n\u001b[0;32m     36\u001b[0m actions \u001b[38;5;241m=\u001b[39m np\u001b[38;5;241m.\u001b[39midentity(\u001b[38;5;241m7\u001b[39m)\n\u001b[1;32m---> 37\u001b[0m movement_reward \u001b[38;5;241m=\u001b[39m \u001b[38;5;28;43mself\u001b[39;49m\u001b[38;5;241;43m.\u001b[39;49m\u001b[43mgame\u001b[49m\u001b[38;5;241;43m.\u001b[39;49m\u001b[43mmake_action\u001b[49m\u001b[43m(\u001b[49m\u001b[43mactions\u001b[49m\u001b[43m[\u001b[49m\u001b[43maction\u001b[49m\u001b[43m]\u001b[49m\u001b[43m,\u001b[49m\u001b[43m \u001b[49m\u001b[38;5;241;43m4\u001b[39;49m\u001b[43m)\u001b[49m\n\u001b[0;32m     38\u001b[0m reward \u001b[38;5;241m=\u001b[39m \u001b[38;5;241m0\u001b[39m\n\u001b[0;32m     40\u001b[0m \u001b[38;5;66;03m# Get other things\u001b[39;00m\n",
      "\u001b[1;31mKeyboardInterrupt\u001b[0m: "
     ]
    }
   ],
   "source": [
    "# Curriculum learning\n",
    "for i in range(1,6):\n",
    "    env = VizDoomGym(config=f'github/VizDoom/scenarios/deadly_corridor-s{i}.cfg')\n",
    "    model.set_env(env)\n",
    "    model.learn(total_timesteps=200_000, callback=callback)"
   ]
  },
  {
   "cell_type": "markdown",
   "id": "7c0ab314",
   "metadata": {},
   "source": [
    "### INFO\n",
    "\n",
    "ep_len_mean = mean of frames that it takes to end episode\\\n",
    "ep_rew_mean = mean of episode rewards\\\n",
    "approx_kl = diffrence between current policy and previous policy\\\n",
    "clip_fraction = similar to approx_kl\\\n",
    "explained_variance = how our critic is correctly predicting the reward or future\n",
    "\n",
    "\n",
    "#### to check results using tensorflow dashboard:\n",
    " \"open cmd\"\\\n",
    " \"go to folder\"\\\n",
    " activate\\\n",
    " cd logs\\\n",
    " cd PPO_3 \"latest PPO\"\\\n",
    " tensorboard --logdir=.\\\n",
    " \"copy given link and paste into browser\" (link looks like this http://localhost:6006/)"
   ]
  },
  {
   "cell_type": "markdown",
   "id": "fb6a5ccb",
   "metadata": {},
   "source": [
    "# 5. Testing The Model"
   ]
  },
  {
   "cell_type": "code",
   "execution_count": null,
   "id": "66c40b40",
   "metadata": {},
   "outputs": [],
   "source": [
    "# Importing eval policy to test agent\n",
    "from stable_baselines3.common.evaluation import evaluate_policy"
   ]
  },
  {
   "cell_type": "code",
   "execution_count": null,
   "id": "19e39688",
   "metadata": {},
   "outputs": [],
   "source": [
    "# Testing each model 100 times\n",
    "\n",
    "env = VizDoomGym()\n",
    "\n",
    "for i in range(10_000, 110_000, 10_000):\n",
    "    # Reloading best model\n",
    "    model = PPO.load(f'./train/train_defend_the_center/best_model_{i}')\n",
    "    mean_reward, _ = evaluate_policy(model, env, n_eval_episodes=100)\n",
    "    print(i, \"=\", mean_reward)\n",
    "\n",
    "env.close()"
   ]
  },
  {
   "cell_type": "code",
   "execution_count": null,
   "id": "a541ccbc",
   "metadata": {},
   "outputs": [],
   "source": [
    "# Displaying how agent plays the game\n",
    "\n",
    "model = PPO.load(f'./train/train_deadly_corridor/best_model_200000')\n",
    "env = VizDoomGym(render=1)\n",
    "\n",
    "for episode in range(4):\n",
    "    obs = env.reset()\n",
    "    done = False\n",
    "    total_reward = 0\n",
    "    \n",
    "    while not done:\n",
    "        action, _ = model.predict(obs)\n",
    "        obs, reward, done, info = env.step(action)\n",
    "        time.sleep(0.2)\n",
    "        total_reward += reward\n",
    "    \n",
    "    print(f\"Total reward for episode {episode+1} is {total_reward}\")\n",
    "    time.sleep(2)\n",
    "    \n",
    "env.close()"
   ]
  },
  {
   "cell_type": "code",
   "execution_count": null,
   "id": "410567a5",
   "metadata": {},
   "outputs": [],
   "source": [
    "env.close()"
   ]
  },
  {
   "cell_type": "code",
   "execution_count": null,
   "id": "d9e0e9c3",
   "metadata": {},
   "outputs": [],
   "source": []
  }
 ],
 "metadata": {
  "kernelspec": {
   "display_name": "Python 3 (ipykernel)",
   "language": "python",
   "name": "python3"
  },
  "language_info": {
   "codemirror_mode": {
    "name": "ipython",
    "version": 3
   },
   "file_extension": ".py",
   "mimetype": "text/x-python",
   "name": "python",
   "nbconvert_exporter": "python",
   "pygments_lexer": "ipython3",
   "version": "3.8.13"
  }
 },
 "nbformat": 4,
 "nbformat_minor": 5
}
