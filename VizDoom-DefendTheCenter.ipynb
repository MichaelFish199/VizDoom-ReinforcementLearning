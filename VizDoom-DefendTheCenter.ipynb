{
 "cells": [
  {
   "cell_type": "markdown",
   "id": "04c19b0c",
   "metadata": {},
   "source": [
    "# VizDoom DefendTheCenter\n",
    "\n",
    "All credits to Nicholas Renotte\\\n",
    "Code reproduced only for learning purposes"
   ]
  },
  {
   "cell_type": "markdown",
   "id": "3dc24691",
   "metadata": {},
   "source": [
    "---"
   ]
  },
  {
   "cell_type": "markdown",
   "id": "0fc17d4f",
   "metadata": {},
   "source": [
    "# 1. Getting VizDoom"
   ]
  },
  {
   "cell_type": "code",
   "execution_count": null,
   "id": "0545aa57",
   "metadata": {},
   "outputs": [],
   "source": [
    "# Cloning repository\n",
    "#!mkdir github\n",
    "#!cd github & git clone https://github.com/mwydmuch/ViZDoom"
   ]
  },
  {
   "cell_type": "code",
   "execution_count": 1,
   "id": "45e0acf4",
   "metadata": {},
   "outputs": [],
   "source": [
    "import random\n",
    "import time\n",
    "import numpy as np\n",
    "import os\n",
    "\n",
    "import matplotlib.pyplot as plt\n",
    "\n",
    "from vizdoom import *"
   ]
  },
  {
   "cell_type": "code",
   "execution_count": null,
   "id": "70602b4d",
   "metadata": {},
   "outputs": [],
   "source": [
    "# Setup Game\n",
    "game = DoomGame()\n",
    "game.load_config('github/VizDoom/scenarios/defend_the_center.cfg')\n",
    "game.init()"
   ]
  },
  {
   "cell_type": "code",
   "execution_count": 10,
   "id": "8de839ea",
   "metadata": {},
   "outputs": [
    {
     "name": "stdout",
     "output_type": "stream",
     "text": [
      "Left-turn, Right-turn, Shoot\n"
     ]
    },
    {
     "data": {
      "text/plain": [
       "array([[1, 0, 0],\n",
       "       [0, 1, 0],\n",
       "       [0, 0, 1]], dtype=uint8)"
      ]
     },
     "execution_count": 10,
     "metadata": {},
     "output_type": "execute_result"
    }
   ],
   "source": [
    "# Set of all actions\n",
    "actions = np.identity(3, dtype=np.uint8)\n",
    "print(\"Left-turn, Right-turn, Shoot\")\n",
    "actions"
   ]
  },
  {
   "cell_type": "code",
   "execution_count": null,
   "id": "bff91ad5",
   "metadata": {},
   "outputs": [],
   "source": [
    "# Game with random actions\n",
    "episodes = 5\n",
    "\n",
    "for episode in range(episodes):\n",
    "    game.new_episode()\n",
    "    \n",
    "    while not game.is_episode_finished():\n",
    "        state = game.get_state()\n",
    "        img = state.screen_buffer\n",
    "        info = state.game_variables\n",
    "        reward = game.make_action(random.choice(actions), 4) # 4 = skipping 4 frames each iteration\n",
    "        print(\"reward:\", reward)\n",
    "        time.sleep(0.02)\n",
    "        \n",
    "    print(\"Result:\", game.get_total_reward())\n",
    "    time.sleep(2)\n",
    "    \n",
    "game.close()"
   ]
  },
  {
   "cell_type": "markdown",
   "id": "77d54dcd",
   "metadata": {},
   "source": [
    "# 2. Converting Game To Gym Environment"
   ]
  },
  {
   "cell_type": "code",
   "execution_count": 3,
   "id": "2ea7136a",
   "metadata": {},
   "outputs": [],
   "source": [
    "from gym import Env\n",
    "from gym.spaces import Discrete, Box\n",
    "import cv2"
   ]
  },
  {
   "cell_type": "code",
   "execution_count": 4,
   "id": "dea93720",
   "metadata": {},
   "outputs": [],
   "source": [
    "class VizDoomGym(Env):\n",
    "    \"\"\" Doom game class \"\"\"\n",
    "    \n",
    "    def __init__(self, render=False):\n",
    "        \"\"\" Inicializing game \"\"\"\n",
    "        \n",
    "        # Inherit from Env\n",
    "        super().__init__()\n",
    "        \n",
    "        # Setup the game\n",
    "        self.game = DoomGame()\n",
    "        self.game.load_config('github/VizDoom/scenarios/defend_the_center.cfg')\n",
    "        \n",
    "        # Render frame logic\n",
    "        if render == False:\n",
    "            self.game.set_window_visible(False)\n",
    "        else:\n",
    "            self.game.set_window_visible(True)\n",
    "            \n",
    "        self.game.init()\n",
    "        \n",
    "        # Create the action space and observation space\n",
    "        self.observation_space = Box(low=0, high=255, shape=(80,160,1), dtype=np.uint8)\n",
    "        self.action_space = Discrete(3)\n",
    "    \n",
    "    \n",
    "    def step(self, action):\n",
    "        \"\"\" Step in Environment \"\"\"\n",
    "        \n",
    "        # Specify action and take step\n",
    "        actions = np.identity(3)\n",
    "        reward = self.game.make_action(actions[action], 4)\n",
    "        \n",
    "        # Get other things\n",
    "        if self.game.get_state():\n",
    "            state = self.game.get_state().screen_buffer\n",
    "            state = self.greyscale(state)\n",
    "            ammo = self.game.get_state().game_variables[0]\n",
    "            info = ammo\n",
    "        else:\n",
    "            state = np.zeros(self.observation_space.shape)\n",
    "            info = 0\n",
    "            \n",
    "        info = {\"info\": info}\n",
    "        done = self.game.is_episode_finished()\n",
    "            \n",
    "        return state, reward, done, info\n",
    "    \n",
    "    \n",
    "    def render():\n",
    "        pass\n",
    "    \n",
    "    \n",
    "    def reset(self):\n",
    "        \"\"\" Reseting the Environment \"\"\"\n",
    "        self.game.new_episode()\n",
    "        state = self.game.get_state().screen_buffer\n",
    "        return self.greyscale(state)\n",
    "    \n",
    "    \n",
    "    def greyscale(self, observation):\n",
    "        \"\"\" Applying greyscale, reshaping and removing HUD \"\"\"\n",
    "        gray = cv2.cvtColor(np.moveaxis(observation, 0, -1), cv2.COLOR_BGR2GRAY)\n",
    "        resize = cv2.resize(gray, (160,100), interpolation=cv2.INTER_CUBIC)\n",
    "        state = np.reshape(resize, (100,160,1))\n",
    "        return state[:80,:]\n",
    "    \n",
    "    \n",
    "    def close(self):\n",
    "        \"\"\" Closing game \"\"\"\n",
    "        self.game.close()"
   ]
  },
  {
   "cell_type": "markdown",
   "id": "5af89ca5",
   "metadata": {},
   "source": [
    "# 3. View Game"
   ]
  },
  {
   "cell_type": "code",
   "execution_count": 5,
   "id": "38d5a145",
   "metadata": {},
   "outputs": [],
   "source": [
    "# Opening the game\n",
    "env = VizDoomGym(render=True)"
   ]
  },
  {
   "cell_type": "code",
   "execution_count": 6,
   "id": "15189485",
   "metadata": {},
   "outputs": [],
   "source": [
    "# agent that tests if environment is setup correctly\n",
    "from stable_baselines3.common import env_checker\n",
    "env_checker.check_env(env)"
   ]
  },
  {
   "cell_type": "code",
   "execution_count": 7,
   "id": "89a3f42a",
   "metadata": {},
   "outputs": [],
   "source": [
    "# Action 2: shoot\n",
    "env.step(2);"
   ]
  },
  {
   "cell_type": "code",
   "execution_count": 8,
   "id": "19bc9889",
   "metadata": {},
   "outputs": [
    {
     "data": {
      "image/png": "[encoded data removed]",
      "text/plain": [
       "<Figure size 432x288 with 1 Axes>"
      ]
     },
     "metadata": {
      "needs_background": "light"
     },
     "output_type": "display_data"
    }
   ],
   "source": [
    "# Displaying evironment for learning \n",
    "state = env.reset()\n",
    "plt.title(\"One game frame that we will be using to teach PPO\")\n",
    "plt.imshow(cv2.cvtColor(state, cv2.COLOR_BGR2RGB));"
   ]
  },
  {
   "cell_type": "code",
   "execution_count": 9,
   "id": "91c190ce",
   "metadata": {},
   "outputs": [],
   "source": [
    "env.close()"
   ]
  },
  {
   "cell_type": "markdown",
   "id": "b7c77b96",
   "metadata": {},
   "source": [
    "# 3. Setup Callback"
   ]
  },
  {
   "cell_type": "code",
   "execution_count": null,
   "id": "88b3bbb2",
   "metadata": {},
   "outputs": [],
   "source": [
    "from stable_baselines3.common.callbacks import BaseCallback\n",
    "\n",
    "class TrainAndLoggingCallback(BaseCallback):\n",
    "    \"\"\"\n",
    "    Callback class that save the model after n steps of iteration\n",
    "    \"\"\"\n",
    "    \n",
    "    def __init__(self, check_freq, save_path, verbose=1):\n",
    "        super(TrainAndLoggingCallback, self).__init__(verbose)\n",
    "        self.check_freq = check_freq\n",
    "        self.save_path = save_path\n",
    "        \n",
    "    def _init_callback(self):\n",
    "        if self.save_path is not None:\n",
    "            os.makedirs(self.save_path, exist_ok=True)\n",
    "            \n",
    "    def _on_step(self):\n",
    "        if self.n_calls % self.check_freq == 0:\n",
    "            model_path = os.path.join(self.save_path, 'best_model_{}'.format(self.n_calls))\n",
    "            self.model.save(model_path)\n",
    "    \n",
    "        return True"
   ]
  },
  {
   "cell_type": "code",
   "execution_count": null,
   "id": "5980ba99",
   "metadata": {},
   "outputs": [],
   "source": [
    "CHECKPOINT_DIR = './train/train_defend_the_center'\n",
    "LOG_DIR = './logs/log_defend_the_center'"
   ]
  },
  {
   "cell_type": "code",
   "execution_count": null,
   "id": "73786ccd",
   "metadata": {},
   "outputs": [],
   "source": [
    "callback = TrainAndLoggingCallback(check_freq = 10_000, save_path=CHECKPOINT_DIR)"
   ]
  },
  {
   "cell_type": "markdown",
   "id": "f0b52e7e",
   "metadata": {},
   "source": [
    "# 4. Training the Model"
   ]
  },
  {
   "cell_type": "code",
   "execution_count": null,
   "id": "c91485e2",
   "metadata": {},
   "outputs": [],
   "source": [
    "# importing PPO algorithm\n",
    "from stable_baselines3 import PPO"
   ]
  },
  {
   "cell_type": "code",
   "execution_count": null,
   "id": "009fbf3c",
   "metadata": {},
   "outputs": [],
   "source": [
    "# Non rendered environment\n",
    "env = VizDoomGym()"
   ]
  },
  {
   "cell_type": "code",
   "execution_count": null,
   "id": "5d9c6411",
   "metadata": {},
   "outputs": [],
   "source": [
    "model = PPO('CnnPolicy', env, tensorboard_log=LOG_DIR, verbose=1, learning_rate=0.0001, n_steps=4096)\n",
    "# the more complex environment(like Dota or Cs-GO) the higher n_steps, lower learning rate and more iterations"
   ]
  },
  {
   "cell_type": "code",
   "execution_count": null,
   "id": "a02ec443",
   "metadata": {},
   "outputs": [],
   "source": [
    "model.learn(total_timesteps=100_000, callback=callback)"
   ]
  },
  {
   "cell_type": "markdown",
   "id": "7c0ab314",
   "metadata": {},
   "source": [
    "### INFO\n",
    "\n",
    "ep_len_mean = mean of frames that it takes to end episode\\\n",
    "ep_rew_mean = mean of episode rewards\\\n",
    "approx_kl = diffrence between current policy and previous policy\\\n",
    "clip_fraction = similar to approx_kl\\\n",
    "explained_variance = how our critic is correctly predicting the reward or future\n",
    "\n",
    "\n",
    "#### to check results using tensorflow dashboard:\n",
    " \"open cmd\"\\\n",
    " \"go to folder\"\\\n",
    " activate\\\n",
    " cd logs\\\n",
    " cd PPO_3 \"latest PPO\"\\\n",
    " tensorboard --logdir=.\\\n",
    " \"copy given link and paste into browser\" (link looks like this http://localhost:6006/)"
   ]
  },
  {
   "cell_type": "markdown",
   "id": "fb6a5ccb",
   "metadata": {},
   "source": [
    "# 5. Testing The Model"
   ]
  },
  {
   "cell_type": "code",
   "execution_count": null,
   "id": "66c40b40",
   "metadata": {},
   "outputs": [],
   "source": [
    "# Importing eval policy to test agent\n",
    "from stable_baselines3.common.evaluation import evaluate_policy"
   ]
  },
  {
   "cell_type": "code",
   "execution_count": null,
   "id": "19e39688",
   "metadata": {},
   "outputs": [],
   "source": [
    "# Testing each model 100 times\n",
    "\n",
    "env = VizDoomGym()\n",
    "\n",
    "for i in range(10_000, 110_000, 10_000):\n",
    "    # Reloading best model\n",
    "    model = PPO.load(f'./train/train_defend_the_center/best_model_{i}')\n",
    "    mean_reward, _ = evaluate_policy(model, env, n_eval_episodes=100)\n",
    "    print(i, \"=\", mean_reward)\n",
    "\n",
    "env.close()"
   ]
  },
  {
   "cell_type": "code",
   "execution_count": null,
   "id": "a541ccbc",
   "metadata": {},
   "outputs": [],
   "source": [
    "# Displaying how agent plays the game\n",
    "\n",
    "model = PPO.load(f'./train/train_defend_the_center/best_model_100000')\n",
    "env = VizDoomGym(render=1)\n",
    "\n",
    "for episode in range(2):\n",
    "    obs = env.reset()\n",
    "    done = False\n",
    "    total_reward = 0\n",
    "    \n",
    "    while not done:\n",
    "        action, _ = model.predict(obs)\n",
    "        obs, reward, done, info = env.step(action)\n",
    "        time.sleep(0.2)\n",
    "        total_reward += reward\n",
    "    \n",
    "    print(f\"Total reward for episode {episode+1} is {total_reward}\")\n",
    "    time.sleep(2)\n",
    "    \n",
    "env.close()"
   ]
  },
  {
   "cell_type": "code",
   "execution_count": null,
   "id": "410567a5",
   "metadata": {},
   "outputs": [],
   "source": [
    "env.close()"
   ]
  },
  {
   "cell_type": "code",
   "execution_count": null,
   "id": "d9e0e9c3",
   "metadata": {},
   "outputs": [],
   "source": []
  }
 ],
 "metadata": {
  "kernelspec": {
   "display_name": "Python 3 (ipykernel)",
   "language": "python",
   "name": "python3"
  },
  "language_info": {
   "codemirror_mode": {
    "name": "ipython",
    "version": 3
   },
   "file_extension": ".py",
   "mimetype": "text/x-python",
   "name": "python",
   "nbconvert_exporter": "python",
   "pygments_lexer": "ipython3",
   "version": "3.8.13"
  }
 },
 "nbformat": 4,
 "nbformat_minor": 5
}
